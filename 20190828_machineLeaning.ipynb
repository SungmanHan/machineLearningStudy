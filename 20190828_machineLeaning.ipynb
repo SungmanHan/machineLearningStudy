{
 "cells": [
  {
   "cell_type": "code",
   "execution_count": 1,
   "metadata": {},
   "outputs": [],
   "source": [
    "# 데이터 -> 사람이 분석(특징) -> SW 개발 -> SW사용\n",
    "# 데이터 -> 머신러닝 -> 결과를 SW에 적용\n",
    "# 데이터 -> 딥러닝 모델(특징 추출) -> 예측 모델 -> 결과\n",
    "\n",
    "# 딥러닝은 특징을 추출하기 힘든 케이스에 사용\n",
    "# 머신러닝은 일반적으로 특징을 추출가능한 케이스에 사용"
   ]
  },
  {
   "cell_type": "code",
   "execution_count": null,
   "metadata": {},
   "outputs": [],
   "source": []
  }
 ],
 "metadata": {
  "kernelspec": {
   "display_name": "Python 3",
   "language": "python",
   "name": "python3"
  },
  "language_info": {
   "codemirror_mode": {
    "name": "ipython",
    "version": 3
   },
   "file_extension": ".py",
   "mimetype": "text/x-python",
   "name": "python",
   "nbconvert_exporter": "python",
   "pygments_lexer": "ipython3",
   "version": "3.7.4"
  }
 },
 "nbformat": 4,
 "nbformat_minor": 2
}
